{
 "cells": [
  {
   "attachments": {},
   "cell_type": "markdown",
   "metadata": {
    "id": "7EpdDShRzOkL"
   },
   "source": [
    "Exploratory data analysis (EDA) is a crucial component of data science which allows you to understand the basics of what your data looks like and what kinds of questions might be answered. For this task, we are going to clean, sanitise and explore our data. Using the movies dataset, complete the steps outlined in this notebook by writing code in the cells."
   ]
  },
  {
   "cell_type": "code",
   "execution_count": 1,
   "metadata": {
    "id": "ARURmm3ezOkQ"
   },
   "outputs": [],
   "source": [
    "# Import libraries\n",
    "\n",
    "import numpy as np\n",
    "import pandas as pd\n",
    "import seaborn as sns\n",
    "import ast, json\n",
    "\n",
    "from datetime import datetime\n",
    "import matplotlib.pyplot as plt\n",
    "%matplotlib inline"
   ]
  },
  {
   "cell_type": "code",
   "execution_count": 2,
   "metadata": {
    "id": "h2rUQqYrzOkT"
   },
   "outputs": [
    {
     "ename": "FileNotFoundError",
     "evalue": "[Errno 2] No such file or directory: 'movies.csv'",
     "output_type": "error",
     "traceback": [
      "\u001b[1;31m---------------------------------------------------------------------------\u001b[0m",
      "\u001b[1;31mFileNotFoundError\u001b[0m                         Traceback (most recent call last)",
      "Cell \u001b[1;32mIn[2], line 2\u001b[0m\n\u001b[0;32m      1\u001b[0m \u001b[38;5;66;03m#### Load the movies dataset \u001b[39;00m\n\u001b[1;32m----> 2\u001b[0m movies_df \u001b[38;5;241m=\u001b[39m \u001b[43mpd\u001b[49m\u001b[38;5;241;43m.\u001b[39;49m\u001b[43mread_csv\u001b[49m\u001b[43m(\u001b[49m\u001b[38;5;124;43m'\u001b[39;49m\u001b[38;5;124;43mmovies.csv\u001b[39;49m\u001b[38;5;124;43m'\u001b[39;49m\u001b[43m)\u001b[49m\n",
      "File \u001b[1;32m~\\AppData\\Local\\Packages\\PythonSoftwareFoundation.Python.3.11_qbz5n2kfra8p0\\LocalCache\\local-packages\\Python311\\site-packages\\pandas\\io\\parsers\\readers.py:948\u001b[0m, in \u001b[0;36mread_csv\u001b[1;34m(filepath_or_buffer, sep, delimiter, header, names, index_col, usecols, dtype, engine, converters, true_values, false_values, skipinitialspace, skiprows, skipfooter, nrows, na_values, keep_default_na, na_filter, verbose, skip_blank_lines, parse_dates, infer_datetime_format, keep_date_col, date_parser, date_format, dayfirst, cache_dates, iterator, chunksize, compression, thousands, decimal, lineterminator, quotechar, quoting, doublequote, escapechar, comment, encoding, encoding_errors, dialect, on_bad_lines, delim_whitespace, low_memory, memory_map, float_precision, storage_options, dtype_backend)\u001b[0m\n\u001b[0;32m    935\u001b[0m kwds_defaults \u001b[38;5;241m=\u001b[39m _refine_defaults_read(\n\u001b[0;32m    936\u001b[0m     dialect,\n\u001b[0;32m    937\u001b[0m     delimiter,\n\u001b[1;32m   (...)\u001b[0m\n\u001b[0;32m    944\u001b[0m     dtype_backend\u001b[38;5;241m=\u001b[39mdtype_backend,\n\u001b[0;32m    945\u001b[0m )\n\u001b[0;32m    946\u001b[0m kwds\u001b[38;5;241m.\u001b[39mupdate(kwds_defaults)\n\u001b[1;32m--> 948\u001b[0m \u001b[38;5;28;01mreturn\u001b[39;00m \u001b[43m_read\u001b[49m\u001b[43m(\u001b[49m\u001b[43mfilepath_or_buffer\u001b[49m\u001b[43m,\u001b[49m\u001b[43m \u001b[49m\u001b[43mkwds\u001b[49m\u001b[43m)\u001b[49m\n",
      "File \u001b[1;32m~\\AppData\\Local\\Packages\\PythonSoftwareFoundation.Python.3.11_qbz5n2kfra8p0\\LocalCache\\local-packages\\Python311\\site-packages\\pandas\\io\\parsers\\readers.py:611\u001b[0m, in \u001b[0;36m_read\u001b[1;34m(filepath_or_buffer, kwds)\u001b[0m\n\u001b[0;32m    608\u001b[0m _validate_names(kwds\u001b[38;5;241m.\u001b[39mget(\u001b[38;5;124m\"\u001b[39m\u001b[38;5;124mnames\u001b[39m\u001b[38;5;124m\"\u001b[39m, \u001b[38;5;28;01mNone\u001b[39;00m))\n\u001b[0;32m    610\u001b[0m \u001b[38;5;66;03m# Create the parser.\u001b[39;00m\n\u001b[1;32m--> 611\u001b[0m parser \u001b[38;5;241m=\u001b[39m \u001b[43mTextFileReader\u001b[49m\u001b[43m(\u001b[49m\u001b[43mfilepath_or_buffer\u001b[49m\u001b[43m,\u001b[49m\u001b[43m \u001b[49m\u001b[38;5;241;43m*\u001b[39;49m\u001b[38;5;241;43m*\u001b[39;49m\u001b[43mkwds\u001b[49m\u001b[43m)\u001b[49m\n\u001b[0;32m    613\u001b[0m \u001b[38;5;28;01mif\u001b[39;00m chunksize \u001b[38;5;129;01mor\u001b[39;00m iterator:\n\u001b[0;32m    614\u001b[0m     \u001b[38;5;28;01mreturn\u001b[39;00m parser\n",
      "File \u001b[1;32m~\\AppData\\Local\\Packages\\PythonSoftwareFoundation.Python.3.11_qbz5n2kfra8p0\\LocalCache\\local-packages\\Python311\\site-packages\\pandas\\io\\parsers\\readers.py:1448\u001b[0m, in \u001b[0;36mTextFileReader.__init__\u001b[1;34m(self, f, engine, **kwds)\u001b[0m\n\u001b[0;32m   1445\u001b[0m     \u001b[38;5;28mself\u001b[39m\u001b[38;5;241m.\u001b[39moptions[\u001b[38;5;124m\"\u001b[39m\u001b[38;5;124mhas_index_names\u001b[39m\u001b[38;5;124m\"\u001b[39m] \u001b[38;5;241m=\u001b[39m kwds[\u001b[38;5;124m\"\u001b[39m\u001b[38;5;124mhas_index_names\u001b[39m\u001b[38;5;124m\"\u001b[39m]\n\u001b[0;32m   1447\u001b[0m \u001b[38;5;28mself\u001b[39m\u001b[38;5;241m.\u001b[39mhandles: IOHandles \u001b[38;5;241m|\u001b[39m \u001b[38;5;28;01mNone\u001b[39;00m \u001b[38;5;241m=\u001b[39m \u001b[38;5;28;01mNone\u001b[39;00m\n\u001b[1;32m-> 1448\u001b[0m \u001b[38;5;28mself\u001b[39m\u001b[38;5;241m.\u001b[39m_engine \u001b[38;5;241m=\u001b[39m \u001b[38;5;28;43mself\u001b[39;49m\u001b[38;5;241;43m.\u001b[39;49m\u001b[43m_make_engine\u001b[49m\u001b[43m(\u001b[49m\u001b[43mf\u001b[49m\u001b[43m,\u001b[49m\u001b[43m \u001b[49m\u001b[38;5;28;43mself\u001b[39;49m\u001b[38;5;241;43m.\u001b[39;49m\u001b[43mengine\u001b[49m\u001b[43m)\u001b[49m\n",
      "File \u001b[1;32m~\\AppData\\Local\\Packages\\PythonSoftwareFoundation.Python.3.11_qbz5n2kfra8p0\\LocalCache\\local-packages\\Python311\\site-packages\\pandas\\io\\parsers\\readers.py:1705\u001b[0m, in \u001b[0;36mTextFileReader._make_engine\u001b[1;34m(self, f, engine)\u001b[0m\n\u001b[0;32m   1703\u001b[0m     \u001b[38;5;28;01mif\u001b[39;00m \u001b[38;5;124m\"\u001b[39m\u001b[38;5;124mb\u001b[39m\u001b[38;5;124m\"\u001b[39m \u001b[38;5;129;01mnot\u001b[39;00m \u001b[38;5;129;01min\u001b[39;00m mode:\n\u001b[0;32m   1704\u001b[0m         mode \u001b[38;5;241m+\u001b[39m\u001b[38;5;241m=\u001b[39m \u001b[38;5;124m\"\u001b[39m\u001b[38;5;124mb\u001b[39m\u001b[38;5;124m\"\u001b[39m\n\u001b[1;32m-> 1705\u001b[0m \u001b[38;5;28mself\u001b[39m\u001b[38;5;241m.\u001b[39mhandles \u001b[38;5;241m=\u001b[39m \u001b[43mget_handle\u001b[49m\u001b[43m(\u001b[49m\n\u001b[0;32m   1706\u001b[0m \u001b[43m    \u001b[49m\u001b[43mf\u001b[49m\u001b[43m,\u001b[49m\n\u001b[0;32m   1707\u001b[0m \u001b[43m    \u001b[49m\u001b[43mmode\u001b[49m\u001b[43m,\u001b[49m\n\u001b[0;32m   1708\u001b[0m \u001b[43m    \u001b[49m\u001b[43mencoding\u001b[49m\u001b[38;5;241;43m=\u001b[39;49m\u001b[38;5;28;43mself\u001b[39;49m\u001b[38;5;241;43m.\u001b[39;49m\u001b[43moptions\u001b[49m\u001b[38;5;241;43m.\u001b[39;49m\u001b[43mget\u001b[49m\u001b[43m(\u001b[49m\u001b[38;5;124;43m\"\u001b[39;49m\u001b[38;5;124;43mencoding\u001b[39;49m\u001b[38;5;124;43m\"\u001b[39;49m\u001b[43m,\u001b[49m\u001b[43m \u001b[49m\u001b[38;5;28;43;01mNone\u001b[39;49;00m\u001b[43m)\u001b[49m\u001b[43m,\u001b[49m\n\u001b[0;32m   1709\u001b[0m \u001b[43m    \u001b[49m\u001b[43mcompression\u001b[49m\u001b[38;5;241;43m=\u001b[39;49m\u001b[38;5;28;43mself\u001b[39;49m\u001b[38;5;241;43m.\u001b[39;49m\u001b[43moptions\u001b[49m\u001b[38;5;241;43m.\u001b[39;49m\u001b[43mget\u001b[49m\u001b[43m(\u001b[49m\u001b[38;5;124;43m\"\u001b[39;49m\u001b[38;5;124;43mcompression\u001b[39;49m\u001b[38;5;124;43m\"\u001b[39;49m\u001b[43m,\u001b[49m\u001b[43m \u001b[49m\u001b[38;5;28;43;01mNone\u001b[39;49;00m\u001b[43m)\u001b[49m\u001b[43m,\u001b[49m\n\u001b[0;32m   1710\u001b[0m \u001b[43m    \u001b[49m\u001b[43mmemory_map\u001b[49m\u001b[38;5;241;43m=\u001b[39;49m\u001b[38;5;28;43mself\u001b[39;49m\u001b[38;5;241;43m.\u001b[39;49m\u001b[43moptions\u001b[49m\u001b[38;5;241;43m.\u001b[39;49m\u001b[43mget\u001b[49m\u001b[43m(\u001b[49m\u001b[38;5;124;43m\"\u001b[39;49m\u001b[38;5;124;43mmemory_map\u001b[39;49m\u001b[38;5;124;43m\"\u001b[39;49m\u001b[43m,\u001b[49m\u001b[43m \u001b[49m\u001b[38;5;28;43;01mFalse\u001b[39;49;00m\u001b[43m)\u001b[49m\u001b[43m,\u001b[49m\n\u001b[0;32m   1711\u001b[0m \u001b[43m    \u001b[49m\u001b[43mis_text\u001b[49m\u001b[38;5;241;43m=\u001b[39;49m\u001b[43mis_text\u001b[49m\u001b[43m,\u001b[49m\n\u001b[0;32m   1712\u001b[0m \u001b[43m    \u001b[49m\u001b[43merrors\u001b[49m\u001b[38;5;241;43m=\u001b[39;49m\u001b[38;5;28;43mself\u001b[39;49m\u001b[38;5;241;43m.\u001b[39;49m\u001b[43moptions\u001b[49m\u001b[38;5;241;43m.\u001b[39;49m\u001b[43mget\u001b[49m\u001b[43m(\u001b[49m\u001b[38;5;124;43m\"\u001b[39;49m\u001b[38;5;124;43mencoding_errors\u001b[39;49m\u001b[38;5;124;43m\"\u001b[39;49m\u001b[43m,\u001b[49m\u001b[43m \u001b[49m\u001b[38;5;124;43m\"\u001b[39;49m\u001b[38;5;124;43mstrict\u001b[39;49m\u001b[38;5;124;43m\"\u001b[39;49m\u001b[43m)\u001b[49m\u001b[43m,\u001b[49m\n\u001b[0;32m   1713\u001b[0m \u001b[43m    \u001b[49m\u001b[43mstorage_options\u001b[49m\u001b[38;5;241;43m=\u001b[39;49m\u001b[38;5;28;43mself\u001b[39;49m\u001b[38;5;241;43m.\u001b[39;49m\u001b[43moptions\u001b[49m\u001b[38;5;241;43m.\u001b[39;49m\u001b[43mget\u001b[49m\u001b[43m(\u001b[49m\u001b[38;5;124;43m\"\u001b[39;49m\u001b[38;5;124;43mstorage_options\u001b[39;49m\u001b[38;5;124;43m\"\u001b[39;49m\u001b[43m,\u001b[49m\u001b[43m \u001b[49m\u001b[38;5;28;43;01mNone\u001b[39;49;00m\u001b[43m)\u001b[49m\u001b[43m,\u001b[49m\n\u001b[0;32m   1714\u001b[0m \u001b[43m\u001b[49m\u001b[43m)\u001b[49m\n\u001b[0;32m   1715\u001b[0m \u001b[38;5;28;01massert\u001b[39;00m \u001b[38;5;28mself\u001b[39m\u001b[38;5;241m.\u001b[39mhandles \u001b[38;5;129;01mis\u001b[39;00m \u001b[38;5;129;01mnot\u001b[39;00m \u001b[38;5;28;01mNone\u001b[39;00m\n\u001b[0;32m   1716\u001b[0m f \u001b[38;5;241m=\u001b[39m \u001b[38;5;28mself\u001b[39m\u001b[38;5;241m.\u001b[39mhandles\u001b[38;5;241m.\u001b[39mhandle\n",
      "File \u001b[1;32m~\\AppData\\Local\\Packages\\PythonSoftwareFoundation.Python.3.11_qbz5n2kfra8p0\\LocalCache\\local-packages\\Python311\\site-packages\\pandas\\io\\common.py:863\u001b[0m, in \u001b[0;36mget_handle\u001b[1;34m(path_or_buf, mode, encoding, compression, memory_map, is_text, errors, storage_options)\u001b[0m\n\u001b[0;32m    858\u001b[0m \u001b[38;5;28;01melif\u001b[39;00m \u001b[38;5;28misinstance\u001b[39m(handle, \u001b[38;5;28mstr\u001b[39m):\n\u001b[0;32m    859\u001b[0m     \u001b[38;5;66;03m# Check whether the filename is to be opened in binary mode.\u001b[39;00m\n\u001b[0;32m    860\u001b[0m     \u001b[38;5;66;03m# Binary mode does not support 'encoding' and 'newline'.\u001b[39;00m\n\u001b[0;32m    861\u001b[0m     \u001b[38;5;28;01mif\u001b[39;00m ioargs\u001b[38;5;241m.\u001b[39mencoding \u001b[38;5;129;01mand\u001b[39;00m \u001b[38;5;124m\"\u001b[39m\u001b[38;5;124mb\u001b[39m\u001b[38;5;124m\"\u001b[39m \u001b[38;5;129;01mnot\u001b[39;00m \u001b[38;5;129;01min\u001b[39;00m ioargs\u001b[38;5;241m.\u001b[39mmode:\n\u001b[0;32m    862\u001b[0m         \u001b[38;5;66;03m# Encoding\u001b[39;00m\n\u001b[1;32m--> 863\u001b[0m         handle \u001b[38;5;241m=\u001b[39m \u001b[38;5;28;43mopen\u001b[39;49m\u001b[43m(\u001b[49m\n\u001b[0;32m    864\u001b[0m \u001b[43m            \u001b[49m\u001b[43mhandle\u001b[49m\u001b[43m,\u001b[49m\n\u001b[0;32m    865\u001b[0m \u001b[43m            \u001b[49m\u001b[43mioargs\u001b[49m\u001b[38;5;241;43m.\u001b[39;49m\u001b[43mmode\u001b[49m\u001b[43m,\u001b[49m\n\u001b[0;32m    866\u001b[0m \u001b[43m            \u001b[49m\u001b[43mencoding\u001b[49m\u001b[38;5;241;43m=\u001b[39;49m\u001b[43mioargs\u001b[49m\u001b[38;5;241;43m.\u001b[39;49m\u001b[43mencoding\u001b[49m\u001b[43m,\u001b[49m\n\u001b[0;32m    867\u001b[0m \u001b[43m            \u001b[49m\u001b[43merrors\u001b[49m\u001b[38;5;241;43m=\u001b[39;49m\u001b[43merrors\u001b[49m\u001b[43m,\u001b[49m\n\u001b[0;32m    868\u001b[0m \u001b[43m            \u001b[49m\u001b[43mnewline\u001b[49m\u001b[38;5;241;43m=\u001b[39;49m\u001b[38;5;124;43m\"\u001b[39;49m\u001b[38;5;124;43m\"\u001b[39;49m\u001b[43m,\u001b[49m\n\u001b[0;32m    869\u001b[0m \u001b[43m        \u001b[49m\u001b[43m)\u001b[49m\n\u001b[0;32m    870\u001b[0m     \u001b[38;5;28;01melse\u001b[39;00m:\n\u001b[0;32m    871\u001b[0m         \u001b[38;5;66;03m# Binary mode\u001b[39;00m\n\u001b[0;32m    872\u001b[0m         handle \u001b[38;5;241m=\u001b[39m \u001b[38;5;28mopen\u001b[39m(handle, ioargs\u001b[38;5;241m.\u001b[39mmode)\n",
      "\u001b[1;31mFileNotFoundError\u001b[0m: [Errno 2] No such file or directory: 'movies.csv'"
     ]
    }
   ],
   "source": [
    "#### Load the movies dataset \n",
    "movies_df = pd.read_csv('movies.csv')"
   ]
  },
  {
   "attachments": {},
   "cell_type": "markdown",
   "metadata": {
    "id": "01Qo282bzOkU"
   },
   "source": [
    "### Data Cleansing\n",
    "#### Clean the data\n",
    "\n",
    "Identify columns that are redundant or unnecessary. It is always easier to make your decisions based on data which is relevant and concise. Remove the following columns `['homepage', 'keywords', 'original_language', 'original_title', 'overview', 'production_companies', 'status', 'tagline']` from the data set as they will not be used in the analysis."
   ]
  },
  {
   "cell_type": "code",
   "execution_count": 4,
   "metadata": {
    "id": "OteozQdbzOkV"
   },
   "outputs": [
    {
     "name": "stdout",
     "output_type": "stream",
     "text": [
      "      budget                                             genres      id  \\\n",
      "0  237000000  [{\"id\": 28, \"name\": \"Action\"}, {\"id\": 12, \"nam...   19995   \n",
      "1  300000000  [{\"id\": 12, \"name\": \"Adventure\"}, {\"id\": 14, \"...     285   \n",
      "2  245000000  [{\"id\": 28, \"name\": \"Action\"}, {\"id\": 12, \"nam...  206647   \n",
      "3  250000000  [{\"id\": 28, \"name\": \"Action\"}, {\"id\": 80, \"nam...   49026   \n",
      "4  260000000  [{\"id\": 28, \"name\": \"Action\"}, {\"id\": 12, \"nam...   49529   \n",
      "\n",
      "   popularity                               production_countries release_date  \\\n",
      "0  150.437577  [{\"iso_3166_1\": \"US\", \"name\": \"United States o...   2009-12-10   \n",
      "1  139.082615  [{\"iso_3166_1\": \"US\", \"name\": \"United States o...   2007-05-19   \n",
      "2  107.376788  [{\"iso_3166_1\": \"GB\", \"name\": \"United Kingdom\"...   2015-10-26   \n",
      "3  112.312950  [{\"iso_3166_1\": \"US\", \"name\": \"United States o...   2012-07-16   \n",
      "4   43.926995  [{\"iso_3166_1\": \"US\", \"name\": \"United States o...   2012-03-07   \n",
      "\n",
      "      revenue  runtime                                   spoken_languages  \\\n",
      "0  2787965087    162.0  [{\"iso_639_1\": \"en\", \"name\": \"English\"}, {\"iso...   \n",
      "1   961000000    169.0           [{\"iso_639_1\": \"en\", \"name\": \"English\"}]   \n",
      "2   880674609    148.0  [{\"iso_639_1\": \"fr\", \"name\": \"Fran\\u00e7ais\"},...   \n",
      "3  1084939099    165.0           [{\"iso_639_1\": \"en\", \"name\": \"English\"}]   \n",
      "4   284139100    132.0           [{\"iso_639_1\": \"en\", \"name\": \"English\"}]   \n",
      "\n",
      "                                      title  vote_average  vote_count  \n",
      "0                                    Avatar           7.2       11800  \n",
      "1  Pirates of the Caribbean: At World's End           6.9        4500  \n",
      "2                                   Spectre           6.3        4466  \n",
      "3                     The Dark Knight Rises           7.6        9106  \n",
      "4                               John Carter           6.1        2124  \n"
     ]
    }
   ],
   "source": [
    "# List of columns to remove\n",
    "columns_to_remove = ['homepage', 'keywords', 'original_language', 'original_title', \n",
    "                     'overview', 'production_companies', 'status', 'tagline']\n",
    "\n",
    "# Drop the specified columns\n",
    "movies_df = movies_df.drop(columns=columns_to_remove)\n",
    "\n",
    "# Display the updated dataframe\n",
    "print(movies_df.head())\n"
   ]
  },
  {
   "attachments": {},
   "cell_type": "markdown",
   "metadata": {
    "id": "aLURlpwJzOkW"
   },
   "source": [
    "#### Remove any duplicate rows"
   ]
  },
  {
   "cell_type": "code",
   "execution_count": 5,
   "metadata": {
    "id": "TZGtp5YhzOkX"
   },
   "outputs": [],
   "source": [
    "movies_df = movies_df.drop_duplicates()"
   ]
  },
  {
   "attachments": {},
   "cell_type": "markdown",
   "metadata": {
    "id": "-FZGXFbezOkY"
   },
   "source": [
    "#### Remove rows with missing data \n",
    "\n",
    "Some movies in the database have zero budget or zero revenue which implies that their values have not been recorded or some information is missing. Discard such entries from the dataframe."
   ]
  },
  {
   "cell_type": "code",
   "execution_count": null,
   "metadata": {
    "id": "gYkKl6FTzOkZ"
   },
   "outputs": [],
   "source": [
    "# Check for missing values\n",
    "print(movies_df.isnull().sum())"
   ]
  },
  {
   "attachments": {},
   "cell_type": "markdown",
   "metadata": {
    "id": "42IlCC8dzOka"
   },
   "source": [
    "#### Change data types\n",
    "To manipulate the columns easily, it is important that we make use of the python objects. Change the release date column into `DateTime` format and extract the year from the date. This will help us in analysing yearly data."
   ]
  },
  {
   "cell_type": "code",
   "execution_count": 6,
   "metadata": {
    "id": "8e9j1-oqzOka"
   },
   "outputs": [
    {
     "name": "stdout",
     "output_type": "stream",
     "text": [
      "      budget                                             genres      id  \\\n",
      "0  237000000  [{\"id\": 28, \"name\": \"Action\"}, {\"id\": 12, \"nam...   19995   \n",
      "1  300000000  [{\"id\": 12, \"name\": \"Adventure\"}, {\"id\": 14, \"...     285   \n",
      "2  245000000  [{\"id\": 28, \"name\": \"Action\"}, {\"id\": 12, \"nam...  206647   \n",
      "3  250000000  [{\"id\": 28, \"name\": \"Action\"}, {\"id\": 80, \"nam...   49026   \n",
      "4  260000000  [{\"id\": 28, \"name\": \"Action\"}, {\"id\": 12, \"nam...   49529   \n",
      "\n",
      "   popularity                               production_countries release_date  \\\n",
      "0  150.437577  [{\"iso_3166_1\": \"US\", \"name\": \"United States o...   2009-12-10   \n",
      "1  139.082615  [{\"iso_3166_1\": \"US\", \"name\": \"United States o...   2007-05-19   \n",
      "2  107.376788  [{\"iso_3166_1\": \"GB\", \"name\": \"United Kingdom\"...   2015-10-26   \n",
      "3  112.312950  [{\"iso_3166_1\": \"US\", \"name\": \"United States o...   2012-07-16   \n",
      "4   43.926995  [{\"iso_3166_1\": \"US\", \"name\": \"United States o...   2012-03-07   \n",
      "\n",
      "      revenue  runtime                                   spoken_languages  \\\n",
      "0  2787965087    162.0  [{\"iso_639_1\": \"en\", \"name\": \"English\"}, {\"iso...   \n",
      "1   961000000    169.0           [{\"iso_639_1\": \"en\", \"name\": \"English\"}]   \n",
      "2   880674609    148.0  [{\"iso_639_1\": \"fr\", \"name\": \"Fran\\u00e7ais\"},...   \n",
      "3  1084939099    165.0           [{\"iso_639_1\": \"en\", \"name\": \"English\"}]   \n",
      "4   284139100    132.0           [{\"iso_639_1\": \"en\", \"name\": \"English\"}]   \n",
      "\n",
      "                                      title  vote_average  vote_count  \\\n",
      "0                                    Avatar           7.2       11800   \n",
      "1  Pirates of the Caribbean: At World's End           6.9        4500   \n",
      "2                                   Spectre           6.3        4466   \n",
      "3                     The Dark Knight Rises           7.6        9106   \n",
      "4                               John Carter           6.1        2124   \n",
      "\n",
      "   release_year  \n",
      "0        2009.0  \n",
      "1        2007.0  \n",
      "2        2015.0  \n",
      "3        2012.0  \n",
      "4        2012.0  \n"
     ]
    }
   ],
   "source": [
    "# Change the release_date column to DateTime\n",
    "movies_df['release_date'] = pd.to_datetime(movies_df['release_date'])\n",
    "\n",
    "# Extract the release year from every release date\n",
    "movies_df['release_year'] = movies_df['release_date'].dt.year\n",
    "\n",
    "# Display the updated dataframe\n",
    "print(movies_df.head())"
   ]
  },
  {
   "attachments": {},
   "cell_type": "markdown",
   "metadata": {
    "id": "qDjwMOU9zOkb"
   },
   "source": [
    "Change budget and revenue columns to a integer data type using numpy’s `int64` method."
   ]
  },
  {
   "cell_type": "code",
   "execution_count": 7,
   "metadata": {
    "id": "p3y-4LIszOkb"
   },
   "outputs": [
    {
     "name": "stdout",
     "output_type": "stream",
     "text": [
      "      budget                                             genres      id  \\\n",
      "0  237000000  [{\"id\": 28, \"name\": \"Action\"}, {\"id\": 12, \"nam...   19995   \n",
      "1  300000000  [{\"id\": 12, \"name\": \"Adventure\"}, {\"id\": 14, \"...     285   \n",
      "2  245000000  [{\"id\": 28, \"name\": \"Action\"}, {\"id\": 12, \"nam...  206647   \n",
      "3  250000000  [{\"id\": 28, \"name\": \"Action\"}, {\"id\": 80, \"nam...   49026   \n",
      "4  260000000  [{\"id\": 28, \"name\": \"Action\"}, {\"id\": 12, \"nam...   49529   \n",
      "\n",
      "   popularity                               production_countries release_date  \\\n",
      "0  150.437577  [{\"iso_3166_1\": \"US\", \"name\": \"United States o...   2009-12-10   \n",
      "1  139.082615  [{\"iso_3166_1\": \"US\", \"name\": \"United States o...   2007-05-19   \n",
      "2  107.376788  [{\"iso_3166_1\": \"GB\", \"name\": \"United Kingdom\"...   2015-10-26   \n",
      "3  112.312950  [{\"iso_3166_1\": \"US\", \"name\": \"United States o...   2012-07-16   \n",
      "4   43.926995  [{\"iso_3166_1\": \"US\", \"name\": \"United States o...   2012-03-07   \n",
      "\n",
      "      revenue  runtime                                   spoken_languages  \\\n",
      "0  2787965087    162.0  [{\"iso_639_1\": \"en\", \"name\": \"English\"}, {\"iso...   \n",
      "1   961000000    169.0           [{\"iso_639_1\": \"en\", \"name\": \"English\"}]   \n",
      "2   880674609    148.0  [{\"iso_639_1\": \"fr\", \"name\": \"Fran\\u00e7ais\"},...   \n",
      "3  1084939099    165.0           [{\"iso_639_1\": \"en\", \"name\": \"English\"}]   \n",
      "4   284139100    132.0           [{\"iso_639_1\": \"en\", \"name\": \"English\"}]   \n",
      "\n",
      "                                      title  vote_average  vote_count  \\\n",
      "0                                    Avatar           7.2       11800   \n",
      "1  Pirates of the Caribbean: At World's End           6.9        4500   \n",
      "2                                   Spectre           6.3        4466   \n",
      "3                     The Dark Knight Rises           7.6        9106   \n",
      "4                               John Carter           6.1        2124   \n",
      "\n",
      "   release_year  \n",
      "0        2009.0  \n",
      "1        2007.0  \n",
      "2        2015.0  \n",
      "3        2012.0  \n",
      "4        2012.0  \n"
     ]
    }
   ],
   "source": [
    "# Change the budget column to int64\n",
    "movies_df['budget'] = movies_df['budget'].astype(np.int64)\n",
    "\n",
    "# Change the revenue column to int64\n",
    "movies_df['revenue'] = movies_df['revenue'].astype(np.int64)\n",
    "\n",
    "# Display the updated dataframe\n",
    "print(movies_df.head())"
   ]
  },
  {
   "attachments": {},
   "cell_type": "markdown",
   "metadata": {
    "id": "qV8nwsWHzOkb"
   },
   "source": [
    "On checking the dataset, we see that `genres`, `production_countries`, `spoken_languages` are in the JSON format which will make it difficult to manipulate the dataframe. The `parse_col_json function` flattens these columns into a format that can be easily interpreted."
   ]
  },
  {
   "cell_type": "code",
   "execution_count": 8,
   "metadata": {},
   "outputs": [],
   "source": [
    "# Convert from JSON format to a list of strings\n",
    "def parse_col_json(column, key):\n",
    "    \"\"\"\n",
    "    Args:\n",
    "        column: string\n",
    "            name of the column to be processed.\n",
    "        key: string\n",
    "            name of the dictionary key which needs to be extracted\n",
    "    \"\"\"\n",
    "    for index,i in zip(movies_df.index, movies_df[column].apply(json.loads)):\n",
    "        list1=[]\n",
    "        for j in range(len(i)):\n",
    "            list1.append((i[j][key]))# the key 'name' contains the name of the genre\n",
    "        movies_df.loc[index, column] = str(list1)\n",
    "    \n",
    "# Flatten data in columns\n",
    "parse_col_json('genres', 'name')\n",
    "parse_col_json('production_countries', 'name')\n",
    "parse_col_json('spoken_languages', 'name')\n"
   ]
  },
  {
   "cell_type": "code",
   "execution_count": 9,
   "metadata": {},
   "outputs": [
    {
     "data": {
      "text/html": [
       "<div>\n",
       "<style scoped>\n",
       "    .dataframe tbody tr th:only-of-type {\n",
       "        vertical-align: middle;\n",
       "    }\n",
       "\n",
       "    .dataframe tbody tr th {\n",
       "        vertical-align: top;\n",
       "    }\n",
       "\n",
       "    .dataframe thead th {\n",
       "        text-align: right;\n",
       "    }\n",
       "</style>\n",
       "<table border=\"1\" class=\"dataframe\">\n",
       "  <thead>\n",
       "    <tr style=\"text-align: right;\">\n",
       "      <th></th>\n",
       "      <th>budget</th>\n",
       "      <th>genres</th>\n",
       "      <th>id</th>\n",
       "      <th>popularity</th>\n",
       "      <th>production_countries</th>\n",
       "      <th>release_date</th>\n",
       "      <th>revenue</th>\n",
       "      <th>runtime</th>\n",
       "      <th>spoken_languages</th>\n",
       "      <th>title</th>\n",
       "      <th>vote_average</th>\n",
       "      <th>vote_count</th>\n",
       "      <th>release_year</th>\n",
       "    </tr>\n",
       "  </thead>\n",
       "  <tbody>\n",
       "    <tr>\n",
       "      <th>4173</th>\n",
       "      <td>1800000</td>\n",
       "      <td>['Drama', 'Comedy', 'War']</td>\n",
       "      <td>935</td>\n",
       "      <td>41.996783</td>\n",
       "      <td>['United Kingdom', 'United States of America']</td>\n",
       "      <td>1964-01-29</td>\n",
       "      <td>9440272</td>\n",
       "      <td>95.0</td>\n",
       "      <td>['English']</td>\n",
       "      <td>Dr. Strangelove or: How I Learned to Stop Worr...</td>\n",
       "      <td>8.0</td>\n",
       "      <td>1442</td>\n",
       "      <td>1964.0</td>\n",
       "    </tr>\n",
       "  </tbody>\n",
       "</table>\n",
       "</div>"
      ],
      "text/plain": [
       "       budget                      genres   id  popularity  \\\n",
       "4173  1800000  ['Drama', 'Comedy', 'War']  935   41.996783   \n",
       "\n",
       "                                production_countries release_date  revenue  \\\n",
       "4173  ['United Kingdom', 'United States of America']   1964-01-29  9440272   \n",
       "\n",
       "      runtime spoken_languages  \\\n",
       "4173     95.0      ['English']   \n",
       "\n",
       "                                                  title  vote_average  \\\n",
       "4173  Dr. Strangelove or: How I Learned to Stop Worr...           8.0   \n",
       "\n",
       "      vote_count  release_year  \n",
       "4173        1442        1964.0  "
      ]
     },
     "execution_count": 9,
     "metadata": {},
     "output_type": "execute_result"
    }
   ],
   "source": [
    "# Inspect flattened data\n",
    "movies_df.sample(1)"
   ]
  },
  {
   "attachments": {},
   "cell_type": "markdown",
   "metadata": {
    "id": "RXqfAA-FtCuG"
   },
   "source": [
    "### Finding Certain Genres\n",
    "Locate all movies in the \"Action\" genre. "
   ]
  },
  {
   "cell_type": "code",
   "execution_count": 10,
   "metadata": {},
   "outputs": [
    {
     "name": "stdout",
     "output_type": "stream",
     "text": [
      "      budget                                             genres      id  \\\n",
      "0  237000000  ['Action', 'Adventure', 'Fantasy', 'Science Fi...   19995   \n",
      "1  300000000                 ['Adventure', 'Fantasy', 'Action']     285   \n",
      "2  245000000                   ['Action', 'Adventure', 'Crime']  206647   \n",
      "3  250000000           ['Action', 'Crime', 'Drama', 'Thriller']   49026   \n",
      "4  260000000         ['Action', 'Adventure', 'Science Fiction']   49529   \n",
      "\n",
      "   popularity                            production_countries release_date  \\\n",
      "0  150.437577  ['United States of America', 'United Kingdom']   2009-12-10   \n",
      "1  139.082615                    ['United States of America']   2007-05-19   \n",
      "2  107.376788  ['United Kingdom', 'United States of America']   2015-10-26   \n",
      "3  112.312950                    ['United States of America']   2012-07-16   \n",
      "4   43.926995                    ['United States of America']   2012-03-07   \n",
      "\n",
      "      revenue  runtime                                   spoken_languages  \\\n",
      "0  2787965087    162.0                             ['English', 'Español']   \n",
      "1   961000000    169.0                                        ['English']   \n",
      "2   880674609    148.0  ['Français', 'English', 'Español', 'Italiano',...   \n",
      "3  1084939099    165.0                                        ['English']   \n",
      "4   284139100    132.0                                        ['English']   \n",
      "\n",
      "                                      title  vote_average  vote_count  \\\n",
      "0                                    Avatar           7.2       11800   \n",
      "1  Pirates of the Caribbean: At World's End           6.9        4500   \n",
      "2                                   Spectre           6.3        4466   \n",
      "3                     The Dark Knight Rises           7.6        9106   \n",
      "4                               John Carter           6.1        2124   \n",
      "\n",
      "   release_year  \n",
      "0        2009.0  \n",
      "1        2007.0  \n",
      "2        2015.0  \n",
      "3        2012.0  \n",
      "4        2012.0  \n"
     ]
    }
   ],
   "source": [
    "# Create a dataframe with all the movies in the \"Action\" genre\n",
    "action_movies = movies_df[movies_df['genres'].str.contains('Action', case=False, na=False)]\n",
    "\n",
    "# Display the dataframe with Action genre movies\n",
    "print(action_movies.head())"
   ]
  },
  {
   "attachments": {},
   "cell_type": "markdown",
   "metadata": {
    "id": "IdqN08kXzOkd"
   },
   "source": [
    "### Now onto the exploration\n",
    "\n",
    "#### Identify relationships between variables (features)\n",
    "\n",
    "The main goal here is to identify and create relationships that can help you formulate ideas. We have defined questions to help you identify some relationships to explore."
   ]
  },
  {
   "attachments": {},
   "cell_type": "markdown",
   "metadata": {
    "id": "9Doy1MMezOkd"
   },
   "source": [
    "#### Which are the 5 most expensive movies? \n",
    "\n",
    "How do the most expensive and cheapest movies compare? Exploring the most expensive movies highlights if some movies are worth the money spent on them based on their performance and revenue generated."
   ]
  },
  {
   "cell_type": "code",
   "execution_count": 12,
   "metadata": {
    "id": "iKQswodgzOkd"
   },
   "outputs": [
    {
     "name": "stdout",
     "output_type": "stream",
     "text": [
      "5 Most Expensive Movies:\n",
      "                                          title     budget     revenue  \\\n",
      "17  Pirates of the Caribbean: On Stranger Tides  380000000  1045713802   \n",
      "1      Pirates of the Caribbean: At World's End  300000000   961000000   \n",
      "7                       Avengers: Age of Ultron  280000000  1405403694   \n",
      "10                             Superman Returns  270000000   391081192   \n",
      "4                                   John Carter  260000000   284139100   \n",
      "\n",
      "    release_year  \n",
      "17        2011.0  \n",
      "1         2007.0  \n",
      "7         2015.0  \n",
      "10        2006.0  \n",
      "4         2012.0  \n",
      "\n",
      "5 Cheapest Movies:\n",
      "                                      title  budget    revenue  release_year\n",
      "265                      The Cat in the Hat       0          0        2003.0\n",
      "321                            The Campaign       0  104907746        2012.0\n",
      "359  Alvin and the Chipmunks: The Road Chip       0  233755553        2015.0\n",
      "406                        Arthur Christmas       0          0        2011.0\n",
      "409                           All That Jazz       0   37823676        1979.0\n",
      "\n",
      "Comparison of Most Expensive and Cheapest Movies:\n",
      "                                                          title     budget  \\\n",
      "Most Expensive 17   Pirates of the Caribbean: On Stranger Tides  380000000   \n",
      "               1       Pirates of the Caribbean: At World's End  300000000   \n",
      "               7                        Avengers: Age of Ultron  280000000   \n",
      "               10                              Superman Returns  270000000   \n",
      "               4                                    John Carter  260000000   \n",
      "Cheapest       265                           The Cat in the Hat          0   \n",
      "               321                                 The Campaign          0   \n",
      "               359       Alvin and the Chipmunks: The Road Chip          0   \n",
      "               406                             Arthur Christmas          0   \n",
      "               409                                All That Jazz          0   \n",
      "\n",
      "                       revenue  release_year  \n",
      "Most Expensive 17   1045713802        2011.0  \n",
      "               1     961000000        2007.0  \n",
      "               7    1405403694        2015.0  \n",
      "               10    391081192        2006.0  \n",
      "               4     284139100        2012.0  \n",
      "Cheapest       265           0        2003.0  \n",
      "               321   104907746        2012.0  \n",
      "               359   233755553        2015.0  \n",
      "               406           0        2011.0  \n",
      "               409    37823676        1979.0  \n"
     ]
    }
   ],
   "source": [
    "# Identify the 5 most expensive movies\n",
    "most_expensive_movies = movies_df.nlargest(5, 'budget')[['title', 'budget', 'revenue', 'release_year']]\n",
    "print(\"5 Most Expensive Movies:\")\n",
    "print(most_expensive_movies)\n",
    "\n",
    "# Identify the cheapest movies\n",
    "cheapest_movies = movies_df.nsmallest(5, 'budget')[['title', 'budget', 'revenue', 'release_year']]\n",
    "print(\"\\n5 Cheapest Movies:\")\n",
    "print(cheapest_movies)\n",
    "\n",
    "# Compare the most expensive and cheapest movies\n",
    "expensive_vs_cheapest = pd.concat([most_expensive_movies, cheapest_movies], keys=['Most Expensive', 'Cheapest'])\n",
    "print(\"\\nComparison of Most Expensive and Cheapest Movies:\")\n",
    "print(expensive_vs_cheapest)\n"
   ]
  },
  {
   "attachments": {},
   "cell_type": "markdown",
   "metadata": {
    "id": "_jqV6iG7zOke"
   },
   "source": [
    "#### What are the top 5 most profitable movies? \n",
    "\n",
    "Compare the min and max profits. The comparison helps us identify the different approaches which failed and succeeded. Subtracting the budget from the revenue generated, will return the profit earned."
   ]
  },
  {
   "cell_type": "code",
   "execution_count": 13,
   "metadata": {
    "id": "IkGr3Va4zOke"
   },
   "outputs": [
    {
     "name": "stdout",
     "output_type": "stream",
     "text": [
      "Top 5 Most Profitable Movies:\n",
      "             title     budget     revenue      profit  release_year\n",
      "0           Avatar  237000000  2787965087  2550965087        2009.0\n",
      "25         Titanic  200000000  1845034188  1645034188        1997.0\n",
      "28  Jurassic World  150000000  1513528810  1363528810        2015.0\n",
      "44       Furious 7  190000000  1506249360  1316249360        2015.0\n",
      "16    The Avengers  220000000  1519557910  1299557910        2012.0\n",
      "\n",
      "Top 5 Least Profitable Movies:\n",
      "                     title     budget   revenue     profit  release_year\n",
      "13         The Lone Ranger  255000000  89289910 -165710090        2013.0\n",
      "135            The Wolfman  150000000         0 -150000000        2010.0\n",
      "338              The Alamo  145000000  25819961 -119180039        2004.0\n",
      "141        Mars Needs Moms  150000000  38992758 -111007242        2011.0\n",
      "1652  Dragonball Evolution  100000000         0 -100000000        2009.0\n",
      "\n",
      "Comparison of Most and Least Profitable Movies:\n",
      "                                      title     budget     revenue  \\\n",
      "Most Profitable  0                   Avatar  237000000  2787965087   \n",
      "                 25                 Titanic  200000000  1845034188   \n",
      "                 28          Jurassic World  150000000  1513528810   \n",
      "                 44               Furious 7  190000000  1506249360   \n",
      "                 16            The Avengers  220000000  1519557910   \n",
      "Least Profitable 13         The Lone Ranger  255000000    89289910   \n",
      "                 135            The Wolfman  150000000           0   \n",
      "                 338              The Alamo  145000000    25819961   \n",
      "                 141        Mars Needs Moms  150000000    38992758   \n",
      "                 1652  Dragonball Evolution  100000000           0   \n",
      "\n",
      "                           profit  release_year  \n",
      "Most Profitable  0     2550965087        2009.0  \n",
      "                 25    1645034188        1997.0  \n",
      "                 28    1363528810        2015.0  \n",
      "                 44    1316249360        2015.0  \n",
      "                 16    1299557910        2012.0  \n",
      "Least Profitable 13    -165710090        2013.0  \n",
      "                 135   -150000000        2010.0  \n",
      "                 338   -119180039        2004.0  \n",
      "                 141   -111007242        2011.0  \n",
      "                 1652  -100000000        2009.0  \n"
     ]
    }
   ],
   "source": [
    "# Calculate profit for each movie (revenue - budget)\n",
    "movies_df['profit'] = movies_df['revenue'] - movies_df['budget']\n",
    "\n",
    "# Identify the top 5 most profitable movies\n",
    "most_profitable_movies = movies_df.nlargest(5, 'profit')[['title', 'budget', 'revenue', 'profit', 'release_year']]\n",
    "print(\"Top 5 Most Profitable Movies:\")\n",
    "print(most_profitable_movies)\n",
    "\n",
    "# Identify the least profitable movies\n",
    "least_profitable_movies = movies_df.nsmallest(5, 'profit')[['title', 'budget', 'revenue', 'profit', 'release_year']]\n",
    "print(\"\\nTop 5 Least Profitable Movies:\")\n",
    "print(least_profitable_movies)\n",
    "\n",
    "# Compare the minimum and maximum profits\n",
    "min_max_profit_comparison = pd.concat([most_profitable_movies, least_profitable_movies], keys=['Most Profitable', 'Least Profitable'])\n",
    "print(\"\\nComparison of Most and Least Profitable Movies:\")\n",
    "print(min_max_profit_comparison)"
   ]
  },
  {
   "attachments": {},
   "cell_type": "markdown",
   "metadata": {
    "id": "gqs-eBKizOke"
   },
   "source": [
    "#### Find the most popular movies. \n",
    "Sort the dataframe based on the popularity column."
   ]
  },
  {
   "cell_type": "code",
   "execution_count": 14,
   "metadata": {},
   "outputs": [
    {
     "name": "stdout",
     "output_type": "stream",
     "text": [
      "Top 5 Most Popular Movies:\n",
      "                       title  popularity  release_year\n",
      "546                  Minions  875.581305        2015.0\n",
      "95              Interstellar  724.247784        2014.0\n",
      "788                 Deadpool  514.569956        2016.0\n",
      "94   Guardians of the Galaxy  481.098624        2014.0\n",
      "127       Mad Max: Fury Road  434.278564        2015.0\n",
      "\n",
      "Movies Sorted by Popularity:\n",
      "                       title  popularity  release_year\n",
      "546                  Minions  875.581305        2015.0\n",
      "95              Interstellar  724.247784        2014.0\n",
      "788                 Deadpool  514.569956        2016.0\n",
      "94   Guardians of the Galaxy  481.098624        2014.0\n",
      "127       Mad Max: Fury Road  434.278564        2015.0\n"
     ]
    }
   ],
   "source": [
    "# Find the most popular movies\n",
    "most_popular_movies = movies_df.nlargest(5, 'popularity')[['title', 'popularity', 'release_year']]\n",
    "print(\"Top 5 Most Popular Movies:\")\n",
    "print(most_popular_movies)\n",
    "\n",
    "# Sort the dataframe based on the 'popularity' column\n",
    "sorted_by_popularity = movies_df.sort_values(by='popularity', ascending=False)\n",
    "print(\"\\nMovies Sorted by Popularity:\")\n",
    "print(sorted_by_popularity[['title', 'popularity', 'release_year']].head())"
   ]
  },
  {
   "attachments": {},
   "cell_type": "markdown",
   "metadata": {
    "id": "t8GJwQQGzOkf"
   },
   "source": [
    "#### Find Movies which are rated above 7"
   ]
  },
  {
   "cell_type": "code",
   "execution_count": 15,
   "metadata": {
    "id": "fgZvo-auzOkf"
   },
   "outputs": [
    {
     "name": "stdout",
     "output_type": "stream",
     "text": [
      "Movies Rated Above 7:\n",
      "                                       title  vote_average  release_year\n",
      "0                                     Avatar           7.2        2009.0\n",
      "3                      The Dark Knight Rises           7.6        2012.0\n",
      "6                                    Tangled           7.4        2010.0\n",
      "7                    Avengers: Age of Ultron           7.3        2015.0\n",
      "8     Harry Potter and the Half-Blood Prince           7.4        2009.0\n",
      "...                                      ...           ...           ...\n",
      "4755                                Counting           8.3        2015.0\n",
      "4766                          The Last Waltz           7.9        1978.0\n",
      "4773                                  Clerks           7.4        1994.0\n",
      "4792                                    Cure           7.4        1997.0\n",
      "4797                                  Cavite           7.5        2005.0\n",
      "\n",
      "[809 rows x 3 columns]\n"
     ]
    }
   ],
   "source": [
    "# Find movies rated above 7\n",
    "high_rated_movies = movies_df[movies_df['vote_average'] > 7][['title', 'vote_average', 'release_year']]\n",
    "print(\"Movies Rated Above 7:\")\n",
    "print(high_rated_movies)"
   ]
  },
  {
   "attachments": {},
   "cell_type": "markdown",
   "metadata": {
    "id": "JEb7f2_AzOkg"
   },
   "source": [
    "#### Most successful genres \n",
    "Create a bar plot explaining the frequency of movies in each genre."
   ]
  },
  {
   "cell_type": "code",
   "execution_count": 51,
   "metadata": {
    "id": "Z18gfLx2zOkg"
   },
   "outputs": [
    {
     "name": "stdout",
     "output_type": "stream",
     "text": [
      "Before Conversion:\n",
      "0    [{\"id\": 14, \"name\": \"Fantasy\"}, {\"id\": 28, \"na...\n",
      "1    [{\"id\": 14, \"name\": \"Fantasy\"}, {\"id\": 35, \"na...\n",
      "2    [{\"id\": 28, \"name\": \"Action\"}, {\"id\": 80, \"nam...\n",
      "Name: genres, dtype: object\n",
      "\n",
      "Genre ID Counts:\n",
      "14    2\n",
      "28    2\n",
      "18    2\n",
      "12    1\n",
      "35    1\n",
      "80    1\n",
      "Name: count, dtype: int64\n"
     ]
    },
    {
     "data": {
      "image/png": "[encoded data removed]",
      "text/plain": [
       "<Figure size 1200x600 with 1 Axes>"
      ]
     },
     "metadata": {},
     "output_type": "display_data"
    }
   ],
   "source": [
    "import pandas as pd\n",
    "import matplotlib.pyplot as plt\n",
    "\n",
    "data = {'title': ['Movie 1', 'Movie 2', 'Movie 3'],\n",
    "        'genres': ['[{\"id\": 14, \"name\": \"Fantasy\"}, {\"id\": 28, \"name\": \"Action\"}, {\"id\": 12, \"name\": \"Adventure\"}]',\n",
    "                   '[{\"id\": 14, \"name\": \"Fantasy\"}, {\"id\": 35, \"name\": \"Comedy\"}, {\"id\": 18, \"name\": \"Drama\"}]',\n",
    "                   '[{\"id\": 28, \"name\": \"Action\"}, {\"id\": 80, \"name\": \"Crime\"}, {\"id\": 18, \"name\": \"Drama\"}]']}\n",
    "\n",
    "movies_df = pd.DataFrame(data)\n",
    "\n",
    "# Print the 'genres' column before conversion\n",
    "print(\"Before Conversion:\")\n",
    "print(movies_df['genres'].head())\n",
    "\n",
    "# Convert 'genres' column to a list of lists\n",
    "movies_df['genres'] = movies_df['genres'].apply(lambda x: eval(x) if isinstance(x, str) else x)\n",
    "\n",
    "# Function to extract genre IDs\n",
    "def extract_genre_ids(genres_list):\n",
    "    if isinstance(genres_list, list):\n",
    "        return [genre['id'] for genre in genres_list]\n",
    "    return []\n",
    "\n",
    "# Apply the function to create a new column 'genre_ids'\n",
    "movies_df['genre_ids'] = movies_df['genres'].apply(extract_genre_ids)\n",
    "\n",
    "# Flatten the genre_ids list and count the frequency of each genre ID\n",
    "all_genre_ids = [genre_id for genre_ids_list in movies_df['genre_ids'] for genre_id in genre_ids_list]\n",
    "genre_id_counts = pd.Series(all_genre_ids).value_counts()\n",
    "\n",
    "# Display the genre ID counts\n",
    "print(\"\\nGenre ID Counts:\")\n",
    "print(genre_id_counts)\n",
    "\n",
    "# Create a bar plot for genre ID frequencies\n",
    "plt.figure(figsize=(12, 6))\n",
    "genre_id_counts.plot(kind='bar', color='skyblue')\n",
    "plt.title('Frequency of Movies in Each Genre (by ID)')\n",
    "plt.xlabel('Genre ID')\n",
    "plt.ylabel('Number of Movies')\n",
    "plt.show()"
   ]
  },
  {
   "cell_type": "code",
   "execution_count": 3,
   "metadata": {
    "id": "IuHFwUx3zOkg"
   },
   "outputs": [
    {
     "ename": "FileNotFoundError",
     "evalue": "[Errno 2] No such file or directory: 'movies.csv'",
     "output_type": "error",
     "traceback": [
      "\u001b[1;31m---------------------------------------------------------------------------\u001b[0m",
      "\u001b[1;31mFileNotFoundError\u001b[0m                         Traceback (most recent call last)",
      "Cell \u001b[1;32mIn[3], line 6\u001b[0m\n\u001b[0;32m      3\u001b[0m \u001b[38;5;28;01mimport\u001b[39;00m \u001b[38;5;21;01mseaborn\u001b[39;00m \u001b[38;5;28;01mas\u001b[39;00m \u001b[38;5;21;01msns\u001b[39;00m \n\u001b[0;32m      5\u001b[0m \u001b[38;5;66;03m# Load the dataset\u001b[39;00m\n\u001b[1;32m----> 6\u001b[0m df \u001b[38;5;241m=\u001b[39m \u001b[43mpd\u001b[49m\u001b[38;5;241;43m.\u001b[39;49m\u001b[43mread_csv\u001b[49m\u001b[43m(\u001b[49m\u001b[38;5;124;43m'\u001b[39;49m\u001b[38;5;124;43mmovies.csv\u001b[39;49m\u001b[38;5;124;43m'\u001b[39;49m\u001b[43m)\u001b[49m\n\u001b[0;32m      8\u001b[0m \u001b[38;5;66;03m# Plot genre distribution\u001b[39;00m\n\u001b[0;32m      9\u001b[0m genre_counts \u001b[38;5;241m=\u001b[39m df[\u001b[38;5;124m'\u001b[39m\u001b[38;5;124mGenre\u001b[39m\u001b[38;5;124m'\u001b[39m]\u001b[38;5;241m.\u001b[39mvalue_counts()\n",
      "File \u001b[1;32m~\\AppData\\Local\\Packages\\PythonSoftwareFoundation.Python.3.11_qbz5n2kfra8p0\\LocalCache\\local-packages\\Python311\\site-packages\\pandas\\io\\parsers\\readers.py:948\u001b[0m, in \u001b[0;36mread_csv\u001b[1;34m(filepath_or_buffer, sep, delimiter, header, names, index_col, usecols, dtype, engine, converters, true_values, false_values, skipinitialspace, skiprows, skipfooter, nrows, na_values, keep_default_na, na_filter, verbose, skip_blank_lines, parse_dates, infer_datetime_format, keep_date_col, date_parser, date_format, dayfirst, cache_dates, iterator, chunksize, compression, thousands, decimal, lineterminator, quotechar, quoting, doublequote, escapechar, comment, encoding, encoding_errors, dialect, on_bad_lines, delim_whitespace, low_memory, memory_map, float_precision, storage_options, dtype_backend)\u001b[0m\n\u001b[0;32m    935\u001b[0m kwds_defaults \u001b[38;5;241m=\u001b[39m _refine_defaults_read(\n\u001b[0;32m    936\u001b[0m     dialect,\n\u001b[0;32m    937\u001b[0m     delimiter,\n\u001b[1;32m   (...)\u001b[0m\n\u001b[0;32m    944\u001b[0m     dtype_backend\u001b[38;5;241m=\u001b[39mdtype_backend,\n\u001b[0;32m    945\u001b[0m )\n\u001b[0;32m    946\u001b[0m kwds\u001b[38;5;241m.\u001b[39mupdate(kwds_defaults)\n\u001b[1;32m--> 948\u001b[0m \u001b[38;5;28;01mreturn\u001b[39;00m \u001b[43m_read\u001b[49m\u001b[43m(\u001b[49m\u001b[43mfilepath_or_buffer\u001b[49m\u001b[43m,\u001b[49m\u001b[43m \u001b[49m\u001b[43mkwds\u001b[49m\u001b[43m)\u001b[49m\n",
      "File \u001b[1;32m~\\AppData\\Local\\Packages\\PythonSoftwareFoundation.Python.3.11_qbz5n2kfra8p0\\LocalCache\\local-packages\\Python311\\site-packages\\pandas\\io\\parsers\\readers.py:611\u001b[0m, in \u001b[0;36m_read\u001b[1;34m(filepath_or_buffer, kwds)\u001b[0m\n\u001b[0;32m    608\u001b[0m _validate_names(kwds\u001b[38;5;241m.\u001b[39mget(\u001b[38;5;124m\"\u001b[39m\u001b[38;5;124mnames\u001b[39m\u001b[38;5;124m\"\u001b[39m, \u001b[38;5;28;01mNone\u001b[39;00m))\n\u001b[0;32m    610\u001b[0m \u001b[38;5;66;03m# Create the parser.\u001b[39;00m\n\u001b[1;32m--> 611\u001b[0m parser \u001b[38;5;241m=\u001b[39m \u001b[43mTextFileReader\u001b[49m\u001b[43m(\u001b[49m\u001b[43mfilepath_or_buffer\u001b[49m\u001b[43m,\u001b[49m\u001b[43m \u001b[49m\u001b[38;5;241;43m*\u001b[39;49m\u001b[38;5;241;43m*\u001b[39;49m\u001b[43mkwds\u001b[49m\u001b[43m)\u001b[49m\n\u001b[0;32m    613\u001b[0m \u001b[38;5;28;01mif\u001b[39;00m chunksize \u001b[38;5;129;01mor\u001b[39;00m iterator:\n\u001b[0;32m    614\u001b[0m     \u001b[38;5;28;01mreturn\u001b[39;00m parser\n",
      "File \u001b[1;32m~\\AppData\\Local\\Packages\\PythonSoftwareFoundation.Python.3.11_qbz5n2kfra8p0\\LocalCache\\local-packages\\Python311\\site-packages\\pandas\\io\\parsers\\readers.py:1448\u001b[0m, in \u001b[0;36mTextFileReader.__init__\u001b[1;34m(self, f, engine, **kwds)\u001b[0m\n\u001b[0;32m   1445\u001b[0m     \u001b[38;5;28mself\u001b[39m\u001b[38;5;241m.\u001b[39moptions[\u001b[38;5;124m\"\u001b[39m\u001b[38;5;124mhas_index_names\u001b[39m\u001b[38;5;124m\"\u001b[39m] \u001b[38;5;241m=\u001b[39m kwds[\u001b[38;5;124m\"\u001b[39m\u001b[38;5;124mhas_index_names\u001b[39m\u001b[38;5;124m\"\u001b[39m]\n\u001b[0;32m   1447\u001b[0m \u001b[38;5;28mself\u001b[39m\u001b[38;5;241m.\u001b[39mhandles: IOHandles \u001b[38;5;241m|\u001b[39m \u001b[38;5;28;01mNone\u001b[39;00m \u001b[38;5;241m=\u001b[39m \u001b[38;5;28;01mNone\u001b[39;00m\n\u001b[1;32m-> 1448\u001b[0m \u001b[38;5;28mself\u001b[39m\u001b[38;5;241m.\u001b[39m_engine \u001b[38;5;241m=\u001b[39m \u001b[38;5;28;43mself\u001b[39;49m\u001b[38;5;241;43m.\u001b[39;49m\u001b[43m_make_engine\u001b[49m\u001b[43m(\u001b[49m\u001b[43mf\u001b[49m\u001b[43m,\u001b[49m\u001b[43m \u001b[49m\u001b[38;5;28;43mself\u001b[39;49m\u001b[38;5;241;43m.\u001b[39;49m\u001b[43mengine\u001b[49m\u001b[43m)\u001b[49m\n",
      "File \u001b[1;32m~\\AppData\\Local\\Packages\\PythonSoftwareFoundation.Python.3.11_qbz5n2kfra8p0\\LocalCache\\local-packages\\Python311\\site-packages\\pandas\\io\\parsers\\readers.py:1705\u001b[0m, in \u001b[0;36mTextFileReader._make_engine\u001b[1;34m(self, f, engine)\u001b[0m\n\u001b[0;32m   1703\u001b[0m     \u001b[38;5;28;01mif\u001b[39;00m \u001b[38;5;124m\"\u001b[39m\u001b[38;5;124mb\u001b[39m\u001b[38;5;124m\"\u001b[39m \u001b[38;5;129;01mnot\u001b[39;00m \u001b[38;5;129;01min\u001b[39;00m mode:\n\u001b[0;32m   1704\u001b[0m         mode \u001b[38;5;241m+\u001b[39m\u001b[38;5;241m=\u001b[39m \u001b[38;5;124m\"\u001b[39m\u001b[38;5;124mb\u001b[39m\u001b[38;5;124m\"\u001b[39m\n\u001b[1;32m-> 1705\u001b[0m \u001b[38;5;28mself\u001b[39m\u001b[38;5;241m.\u001b[39mhandles \u001b[38;5;241m=\u001b[39m \u001b[43mget_handle\u001b[49m\u001b[43m(\u001b[49m\n\u001b[0;32m   1706\u001b[0m \u001b[43m    \u001b[49m\u001b[43mf\u001b[49m\u001b[43m,\u001b[49m\n\u001b[0;32m   1707\u001b[0m \u001b[43m    \u001b[49m\u001b[43mmode\u001b[49m\u001b[43m,\u001b[49m\n\u001b[0;32m   1708\u001b[0m \u001b[43m    \u001b[49m\u001b[43mencoding\u001b[49m\u001b[38;5;241;43m=\u001b[39;49m\u001b[38;5;28;43mself\u001b[39;49m\u001b[38;5;241;43m.\u001b[39;49m\u001b[43moptions\u001b[49m\u001b[38;5;241;43m.\u001b[39;49m\u001b[43mget\u001b[49m\u001b[43m(\u001b[49m\u001b[38;5;124;43m\"\u001b[39;49m\u001b[38;5;124;43mencoding\u001b[39;49m\u001b[38;5;124;43m\"\u001b[39;49m\u001b[43m,\u001b[49m\u001b[43m \u001b[49m\u001b[38;5;28;43;01mNone\u001b[39;49;00m\u001b[43m)\u001b[49m\u001b[43m,\u001b[49m\n\u001b[0;32m   1709\u001b[0m \u001b[43m    \u001b[49m\u001b[43mcompression\u001b[49m\u001b[38;5;241;43m=\u001b[39;49m\u001b[38;5;28;43mself\u001b[39;49m\u001b[38;5;241;43m.\u001b[39;49m\u001b[43moptions\u001b[49m\u001b[38;5;241;43m.\u001b[39;49m\u001b[43mget\u001b[49m\u001b[43m(\u001b[49m\u001b[38;5;124;43m\"\u001b[39;49m\u001b[38;5;124;43mcompression\u001b[39;49m\u001b[38;5;124;43m\"\u001b[39;49m\u001b[43m,\u001b[49m\u001b[43m \u001b[49m\u001b[38;5;28;43;01mNone\u001b[39;49;00m\u001b[43m)\u001b[49m\u001b[43m,\u001b[49m\n\u001b[0;32m   1710\u001b[0m \u001b[43m    \u001b[49m\u001b[43mmemory_map\u001b[49m\u001b[38;5;241;43m=\u001b[39;49m\u001b[38;5;28;43mself\u001b[39;49m\u001b[38;5;241;43m.\u001b[39;49m\u001b[43moptions\u001b[49m\u001b[38;5;241;43m.\u001b[39;49m\u001b[43mget\u001b[49m\u001b[43m(\u001b[49m\u001b[38;5;124;43m\"\u001b[39;49m\u001b[38;5;124;43mmemory_map\u001b[39;49m\u001b[38;5;124;43m\"\u001b[39;49m\u001b[43m,\u001b[49m\u001b[43m \u001b[49m\u001b[38;5;28;43;01mFalse\u001b[39;49;00m\u001b[43m)\u001b[49m\u001b[43m,\u001b[49m\n\u001b[0;32m   1711\u001b[0m \u001b[43m    \u001b[49m\u001b[43mis_text\u001b[49m\u001b[38;5;241;43m=\u001b[39;49m\u001b[43mis_text\u001b[49m\u001b[43m,\u001b[49m\n\u001b[0;32m   1712\u001b[0m \u001b[43m    \u001b[49m\u001b[43merrors\u001b[49m\u001b[38;5;241;43m=\u001b[39;49m\u001b[38;5;28;43mself\u001b[39;49m\u001b[38;5;241;43m.\u001b[39;49m\u001b[43moptions\u001b[49m\u001b[38;5;241;43m.\u001b[39;49m\u001b[43mget\u001b[49m\u001b[43m(\u001b[49m\u001b[38;5;124;43m\"\u001b[39;49m\u001b[38;5;124;43mencoding_errors\u001b[39;49m\u001b[38;5;124;43m\"\u001b[39;49m\u001b[43m,\u001b[49m\u001b[43m \u001b[49m\u001b[38;5;124;43m\"\u001b[39;49m\u001b[38;5;124;43mstrict\u001b[39;49m\u001b[38;5;124;43m\"\u001b[39;49m\u001b[43m)\u001b[49m\u001b[43m,\u001b[49m\n\u001b[0;32m   1713\u001b[0m \u001b[43m    \u001b[49m\u001b[43mstorage_options\u001b[49m\u001b[38;5;241;43m=\u001b[39;49m\u001b[38;5;28;43mself\u001b[39;49m\u001b[38;5;241;43m.\u001b[39;49m\u001b[43moptions\u001b[49m\u001b[38;5;241;43m.\u001b[39;49m\u001b[43mget\u001b[49m\u001b[43m(\u001b[49m\u001b[38;5;124;43m\"\u001b[39;49m\u001b[38;5;124;43mstorage_options\u001b[39;49m\u001b[38;5;124;43m\"\u001b[39;49m\u001b[43m,\u001b[49m\u001b[43m \u001b[49m\u001b[38;5;28;43;01mNone\u001b[39;49;00m\u001b[43m)\u001b[49m\u001b[43m,\u001b[49m\n\u001b[0;32m   1714\u001b[0m \u001b[43m\u001b[49m\u001b[43m)\u001b[49m\n\u001b[0;32m   1715\u001b[0m \u001b[38;5;28;01massert\u001b[39;00m \u001b[38;5;28mself\u001b[39m\u001b[38;5;241m.\u001b[39mhandles \u001b[38;5;129;01mis\u001b[39;00m \u001b[38;5;129;01mnot\u001b[39;00m \u001b[38;5;28;01mNone\u001b[39;00m\n\u001b[0;32m   1716\u001b[0m f \u001b[38;5;241m=\u001b[39m \u001b[38;5;28mself\u001b[39m\u001b[38;5;241m.\u001b[39mhandles\u001b[38;5;241m.\u001b[39mhandle\n",
      "File \u001b[1;32m~\\AppData\\Local\\Packages\\PythonSoftwareFoundation.Python.3.11_qbz5n2kfra8p0\\LocalCache\\local-packages\\Python311\\site-packages\\pandas\\io\\common.py:863\u001b[0m, in \u001b[0;36mget_handle\u001b[1;34m(path_or_buf, mode, encoding, compression, memory_map, is_text, errors, storage_options)\u001b[0m\n\u001b[0;32m    858\u001b[0m \u001b[38;5;28;01melif\u001b[39;00m \u001b[38;5;28misinstance\u001b[39m(handle, \u001b[38;5;28mstr\u001b[39m):\n\u001b[0;32m    859\u001b[0m     \u001b[38;5;66;03m# Check whether the filename is to be opened in binary mode.\u001b[39;00m\n\u001b[0;32m    860\u001b[0m     \u001b[38;5;66;03m# Binary mode does not support 'encoding' and 'newline'.\u001b[39;00m\n\u001b[0;32m    861\u001b[0m     \u001b[38;5;28;01mif\u001b[39;00m ioargs\u001b[38;5;241m.\u001b[39mencoding \u001b[38;5;129;01mand\u001b[39;00m \u001b[38;5;124m\"\u001b[39m\u001b[38;5;124mb\u001b[39m\u001b[38;5;124m\"\u001b[39m \u001b[38;5;129;01mnot\u001b[39;00m \u001b[38;5;129;01min\u001b[39;00m ioargs\u001b[38;5;241m.\u001b[39mmode:\n\u001b[0;32m    862\u001b[0m         \u001b[38;5;66;03m# Encoding\u001b[39;00m\n\u001b[1;32m--> 863\u001b[0m         handle \u001b[38;5;241m=\u001b[39m \u001b[38;5;28;43mopen\u001b[39;49m\u001b[43m(\u001b[49m\n\u001b[0;32m    864\u001b[0m \u001b[43m            \u001b[49m\u001b[43mhandle\u001b[49m\u001b[43m,\u001b[49m\n\u001b[0;32m    865\u001b[0m \u001b[43m            \u001b[49m\u001b[43mioargs\u001b[49m\u001b[38;5;241;43m.\u001b[39;49m\u001b[43mmode\u001b[49m\u001b[43m,\u001b[49m\n\u001b[0;32m    866\u001b[0m \u001b[43m            \u001b[49m\u001b[43mencoding\u001b[49m\u001b[38;5;241;43m=\u001b[39;49m\u001b[43mioargs\u001b[49m\u001b[38;5;241;43m.\u001b[39;49m\u001b[43mencoding\u001b[49m\u001b[43m,\u001b[49m\n\u001b[0;32m    867\u001b[0m \u001b[43m            \u001b[49m\u001b[43merrors\u001b[49m\u001b[38;5;241;43m=\u001b[39;49m\u001b[43merrors\u001b[49m\u001b[43m,\u001b[49m\n\u001b[0;32m    868\u001b[0m \u001b[43m            \u001b[49m\u001b[43mnewline\u001b[49m\u001b[38;5;241;43m=\u001b[39;49m\u001b[38;5;124;43m\"\u001b[39;49m\u001b[38;5;124;43m\"\u001b[39;49m\u001b[43m,\u001b[49m\n\u001b[0;32m    869\u001b[0m \u001b[43m        \u001b[49m\u001b[43m)\u001b[49m\n\u001b[0;32m    870\u001b[0m     \u001b[38;5;28;01melse\u001b[39;00m:\n\u001b[0;32m    871\u001b[0m         \u001b[38;5;66;03m# Binary mode\u001b[39;00m\n\u001b[0;32m    872\u001b[0m         handle \u001b[38;5;241m=\u001b[39m \u001b[38;5;28mopen\u001b[39m(handle, ioargs\u001b[38;5;241m.\u001b[39mmode)\n",
      "\u001b[1;31mFileNotFoundError\u001b[0m: [Errno 2] No such file or directory: 'movies.csv'"
     ]
    }
   ],
   "source": [
    "import pandas as pd\n",
    "import matplotlib.pyplot as plt\n",
    "import seaborn as sns \n",
    "\n",
    "# Load the dataset\n",
    "df = pd.read_csv('movies.csv')\n",
    "\n",
    "# Plot genre distribution\n",
    "genre_counts = df['Genre'].value_counts()\n",
    "genre_counts.plot(kind='pie', autopct='%1.1f%%')\n",
    "plt.title('Genre Distribution of Movies')\n",
    "plt.show()\n",
    "\n",
    "# Convert 'Release Year' to datetime\n",
    "df['Release Year'] = pd.to_datetime(df['Release Year'], format='%Y')\n",
    "\n",
    "# Plot box office revenue over time\n",
    "plt.figure(figsize=(10, 6))\n",
    "df.groupby('Release Year')['Box Office Revenue'].sum().plot(marker='o')\n",
    "plt.title('Box Office Revenue Over Time')\n",
    "plt.xlabel('Release Year')\n",
    "plt.ylabel('Total Box Office Revenue (in billions)')\n",
    "plt.show()\n",
    "\n",
    "# Plot rating vs. runtime\n",
    "plt.figure(figsize=(10, 6))\n",
    "sns.scatterplot(x='Rating', y='Runtime', data=df, alpha=0.7)\n",
    "plt.title('Rating vs. Runtime')\n",
    "plt.xlabel('Rating')\n",
    "plt.ylabel('Runtime (minutes)')\n",
    "plt.show()\n"
   ]
  }
 ],
 "metadata": {
  "colab": {
   "provenance": []
  },
  "kernelspec": {
   "display_name": "Python 3 (ipykernel)",
   "language": "python",
   "name": "python3"
  },
  "language_info": {
   "codemirror_mode": {
    "name": "ipython",
    "version": 3
   },
   "file_extension": ".py",
   "mimetype": "text/x-python",
   "name": "python",
   "nbconvert_exporter": "python",
   "pygments_lexer": "ipython3",
   "version": "3.11.7"
  },
  "vscode": {
   "interpreter": {
    "hash": "1904059d3876957b542b45423f2a26c6c4608f5e11cc75420e543fa77f94b066"
   }
  }
 },
 "nbformat": 4,
 "nbformat_minor": 1
}
